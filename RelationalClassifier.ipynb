{
 "cells": [
  {
   "cell_type": "code",
   "execution_count": 1,
   "metadata": {},
   "outputs": [],
   "source": [
    "import networkx as nx\n",
    "import matplotlib.pyplot as mp"
   ]
  },
  {
   "cell_type": "code",
   "execution_count": 71,
   "metadata": {},
   "outputs": [],
   "source": [
    "import numpy as np  "
   ]
  },
  {
   "cell_type": "code",
   "execution_count": 184,
   "metadata": {},
   "outputs": [],
   "source": [
    "def RelationalClassifier(A,B,R):\n",
    "    ini=dict()\n",
    "    for i in range(len(A)):\n",
    "        if i in B:\n",
    "            ini[i] = 1 #we know these are class blue \n",
    "        elif i in R:\n",
    "            ini[i] = 0 #we know these are class red\n",
    "        elif i not in B and i not in R:\n",
    "            ini[i] = 0.5\n",
    "        i=i+1\n",
    "    print(\"Initial: \",ini)\n",
    "    n = 1\n",
    "    while n<=10:\n",
    "        i=0\n",
    "        for i in range(len(A)):\n",
    "            if list(ini.keys())[i] not in B and list(ini.keys())[i] not in R:\n",
    "                j=0\n",
    "                v=0\n",
    "                for j in range(len(A[i])):\n",
    "                    if A[i][j] in B:\n",
    "                        v=v+1\n",
    "                    elif A[i][j] in R:\n",
    "                        v=v\n",
    "                    else:\n",
    "                        a=A[i][j]\n",
    "                        v=v+list(ini.values())[a]\n",
    "                        \n",
    "                ini[i]=(1/len(A[i]))*v\n",
    "                i=i+1     \n",
    "            else:\n",
    "                i=i+1\n",
    "        print(\"Iteration: \",n,\" \",ini)\n",
    "        n=n+1\n",
    "    for n in list(ini.keys()):\n",
    "        if list(ini.values())[n]>=0.5:\n",
    "            print('Node: ',n,\"has class label 1\")\n",
    "        else:\n",
    "            print('Node: ',n,\"has class label 0\")\n",
    "        "
   ]
  },
  {
   "cell_type": "markdown",
   "metadata": {},
   "source": [
    "### Test"
   ]
  },
  {
   "cell_type": "code",
   "execution_count": 185,
   "metadata": {},
   "outputs": [],
   "source": [
    "a = [3,[2,3],[1,3],[0,1,2,4,5,6],[3,5],[3,4,6,7],[3,5,7],[5,6]]\n",
    "b =[0,1] \n",
    "r =[7]"
   ]
  },
  {
   "cell_type": "code",
   "execution_count": 186,
   "metadata": {},
   "outputs": [
    {
     "name": "stdout",
     "output_type": "stream",
     "text": [
      "Initial:  {0: 1, 1: 1, 2: 0.5, 3: 0.5, 4: 0.5, 5: 0.5, 6: 0.5, 7: 0}\n",
      "Iteration:  1   {0: 1, 1: 1, 2: 0.75, 3: 0.7083333333333333, 4: 0.6041666666666666, 5: 0.453125, 6: 0.38715277777777773, 7: 0}\n",
      "Iteration:  2   {0: 1, 1: 1, 2: 0.8541666666666666, 3: 0.7164351851851851, 4: 0.5847800925925926, 5: 0.42209201388888884, 6: 0.3795090663580246, 7: 0}\n",
      "Iteration:  3   {0: 1, 1: 1, 2: 0.8582175925925926, 3: 0.7074331275720165, 4: 0.5647625707304527, 5: 0.4129261911651234, 6: 0.37345310624571326, 7: 0}\n",
      "Iteration:  4   {0: 1, 1: 1, 2: 0.8537165637860082, 3: 0.7008097386545497, 4: 0.5568679649098365, 5: 0.4077827024525248, 6: 0.36953081370235813, 7: 0}\n",
      "Iteration:  5   {0: 1, 1: 1, 2: 0.8504048693272748, 3: 0.6974310583986656, 4: 0.5526068804255952, 5: 0.40489218813165473, 6: 0.3674410821767734, 7: 0}\n",
      "Iteration:  6   {0: 1, 1: 1, 2: 0.8487155291993328, 3: 0.6956092799888927, 4: 0.5502507340602737, 5: 0.4033252740564849, 6: 0.3663115180151258, 7: 0}\n",
      "Iteration:  7   {0: 1, 1: 1, 2: 0.8478046399944463, 3: 0.694615361021055, 4: 0.5489703175387699, 5: 0.40247429914373767, 6: 0.3656965533882642, 7: 0}\n",
      "Iteration:  8   {0: 1, 1: 1, 2: 0.8473076805105275, 3: 0.6940748084302166, 4: 0.5482745537869771, 5: 0.40201147890136446, 6: 0.3653620957771937, 7: 0}\n",
      "Iteration:  9   {0: 1, 1: 1, 2: 0.8470374042151083, 3: 0.6937809221134406, 4: 0.5478962005074025, 5: 0.40175980459950916, 6: 0.3651802422376499, 7: 0}\n",
      "Iteration:  10   {0: 1, 1: 1, 2: 0.8468904610567203, 3: 0.6936211180668802, 4: 0.5476904613331947, 5: 0.40162295540943116, 6: 0.3650813578254371, 7: 0}\n",
      "Node:  0 has class label 1\n",
      "Node:  1 has class label 1\n",
      "Node:  2 has class label 1\n",
      "Node:  3 has class label 1\n",
      "Node:  4 has class label 1\n",
      "Node:  5 has class label 0\n",
      "Node:  6 has class label 0\n",
      "Node:  7 has class label 0\n"
     ]
    }
   ],
   "source": [
    "RelationalClassifier(a,b,r)"
   ]
  },
  {
   "cell_type": "markdown",
   "metadata": {},
   "source": [
    "## 4"
   ]
  },
  {
   "cell_type": "code",
   "execution_count": 210,
   "metadata": {},
   "outputs": [],
   "source": [
    "import os\n",
    "import networkx as nx\n",
    "import pandas as pd\n",
    "data_dir = os.path.expanduser(\"cora\")\n",
    "edgelist = pd.read_csv(os.path.join(data_dir, \"cora.cites\"), sep='\\t', header=None, names=[\"target\", \"source\"])\n",
    "edgelist[\"label\"] = \"cites\"\n",
    "G = nx.from_pandas_edgelist(edgelist, edge_attr=\"label\")\n",
    "nx.set_node_attributes(G, \"paper\", \"label\")"
   ]
  },
  {
   "cell_type": "code",
   "execution_count": 211,
   "metadata": {},
   "outputs": [
    {
     "data": {
      "image/png": "[encoded data removed]",
      "text/plain": [
       "<Figure size 432x288 with 1 Axes>"
      ]
     },
     "metadata": {},
     "output_type": "display_data"
    }
   ],
   "source": [
    "nx.draw(G,node_size=10)"
   ]
  },
  {
   "cell_type": "markdown",
   "metadata": {},
   "source": [
    "The node features represent in this dataset is the scientific publications and the node label means the classes of the publications."
   ]
  },
  {
   "cell_type": "code",
   "execution_count": null,
   "metadata": {},
   "outputs": [],
   "source": []
  }
 ],
 "metadata": {
  "kernelspec": {
   "display_name": "Python 3",
   "language": "python",
   "name": "python3"
  },
  "language_info": {
   "codemirror_mode": {
    "name": "ipython",
    "version": 3
   },
   "file_extension": ".py",
   "mimetype": "text/x-python",
   "name": "python",
   "nbconvert_exporter": "python",
   "pygments_lexer": "ipython3",
   "version": "3.8.3"
  }
 },
 "nbformat": 4,
 "nbformat_minor": 4
}
