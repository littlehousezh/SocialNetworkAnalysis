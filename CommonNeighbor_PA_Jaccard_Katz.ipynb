{
 "cells": [
  {
   "cell_type": "code",
   "execution_count": 107,
   "metadata": {},
   "outputs": [],
   "source": [
    "# Importing modules\n",
    "import pandas as pd\n",
    "import networkx as nx\n",
    "import numpy as np\n",
    "# Reading in datasets/book1.csv\n",
    "book1 = pd.read_csv('book1.csv')\n",
    "G_book1 = nx.Graph()\n",
    "# Iterating through the DataFrame to add edges\n",
    "for _, edge in book1.iterrows():\n",
    "    G_book1.add_edge(edge['Source'], edge['Target'])\n",
    "G = nx.Graph()\n",
    "H=sorted(G_book1.nodes())\n",
    "G.add_nodes_from(H)\n",
    "G.add_edges_from(G_book1.edges())\n",
    "\n",
    "books = [G]"
   ]
  },
  {
   "cell_type": "markdown",
   "metadata": {},
   "source": [
    "### Common neighbor"
   ]
  },
  {
   "cell_type": "code",
   "execution_count": 108,
   "metadata": {},
   "outputs": [],
   "source": [
    "def commonneighbor1(g,k):\n",
    "    \"\"\"Parameters\n",
    "    \n",
    "    g :  A NetworkX graph\n",
    "  \n",
    "    k : int\n",
    "        the number of requested suggested links for each node\n",
    "  \n",
    "    \"\"\"\n",
    "    import networkx as nx\n",
    "    ## calculate the adjacency matrix node \n",
    "    n_list = list(sorted(g.nodes))\n",
    "    adj=nx.adjacency_matrix(g,nodelist=n_list)\n",
    "    adj1 = adj.copy().todense().tolist()\n",
    "    ## calculate common neighbors \n",
    "    cn=adj.T*adj.todense().tolist()\n",
    "    ## define the output csv file\n",
    "    cols_name = ['nodes']+[i for i in range(1,k+1)] \n",
    "    df=pd.DataFrame(columns=cols_name)\n",
    "    i=0\n",
    "    while i < len(cn):\n",
    "    ## Get top k nodes using common neighbor\n",
    "        cn_li = list(zip(n_list, cn[i], adj1[i]))\n",
    "        cn_li.pop(i)\n",
    "        cn_li = [(n[0], n[1]) for n in cn_li if n[2]==0]\n",
    "        cn_li = sorted(cn_li, key = lambda x:(-x[1],x[0])) \n",
    "        cn_li = [node[0] for node in cn_li[:k]]\n",
    "        ## list of node t and top k with most common neighbors\n",
    "        simi = [n_list[i]] + cn_li\n",
    "        ## add it to dataframe\n",
    "        df.loc[len(df)]=simi \n",
    "        i+=1\n",
    "    result_df = pd.DataFrame(df)\n",
    "    result_df.to_csv(\"result-common1.csv\", index=False) "
   ]
  },
  {
   "cell_type": "code",
   "execution_count": 109,
   "metadata": {},
   "outputs": [],
   "source": [
    "commonneighbor1(books[0],3)"
   ]
  },
  {
   "cell_type": "markdown",
   "metadata": {},
   "source": [
    "### Preferential Attachment"
   ]
  },
  {
   "cell_type": "code",
   "execution_count": 110,
   "metadata": {},
   "outputs": [],
   "source": [
    "def PreferentialAttachment(g,k):\n",
    "    \"\"\"Parameters\n",
    "    \n",
    "    g :  A NetworkX graph\n",
    "  \n",
    "    k : int\n",
    "        the number of requested suggested links for each node\n",
    "  \n",
    "    \"\"\"\n",
    "    n_list = list(sorted(g.nodes))\n",
    "    adj=nx.adjacency_matrix(g,nodelist=n_list).todense().tolist()\n",
    "    ## read node by alphabetical order, calculate the adjacency matrix node \n",
    "    import numpy as np\n",
    "    de=list(g.degree())\n",
    "    l=[]\n",
    "    j=0\n",
    "    while j< g.number_of_nodes():\n",
    "        num=de[j][1]\n",
    "        l.append(num)\n",
    "        j=j+1\n",
    "    ## get the PA results\n",
    "    l=np.matrix(l)\n",
    "    #l1=np.array(l.copy())\n",
    "    cn=l.T*l\n",
    "    cn=np.array(cn)\n",
    "    cn1=cn.copy()\n",
    "    ## define the output csv file\n",
    "    cols_name = ['nodes']+[i for i in range(1,k+1)] \n",
    "    df=pd.DataFrame(columns=cols_name)\n",
    "    i=0\n",
    "    while i< len(cn):\n",
    "    ## filtered out the top k nodes using PA\n",
    "        pa_li = list(zip(n_list, cn[i],adj[i]))\n",
    "        pa_li.pop(i)\n",
    "        pa_li = [(n[0], n[1]) for n in pa_li if n[2]==0]\n",
    "        pa_li = sorted(pa_li, key = lambda x:(-x[1],x[0])) \n",
    "        pa_li = [node[0] for node in pa_li[:k]]\n",
    "        ## list of node t and its top k nodes with highest PA score\n",
    "        simi = [n_list[i]] + pa_li\n",
    "        ## add it to dataframe\n",
    "        df.loc[len(df)]=simi\n",
    "        i+=1\n",
    "    result_df = pd.DataFrame(df)\n",
    "    result_df.to_csv(\"result-pa1.csv\", index=False) "
   ]
  },
  {
   "cell_type": "code",
   "execution_count": 111,
   "metadata": {},
   "outputs": [],
   "source": [
    "PreferentialAttachment(books[0],3)"
   ]
  },
  {
   "cell_type": "markdown",
   "metadata": {},
   "source": [
    "### Jaccard Index"
   ]
  },
  {
   "cell_type": "code",
   "execution_count": 112,
   "metadata": {},
   "outputs": [],
   "source": [
    "def jac(g,k):\n",
    "    \"\"\"Parameters\n",
    "    \n",
    "    g :  A NetworkX graph\n",
    "  \n",
    "    k : int\n",
    "        the number of requested suggested links for each node\n",
    "  \n",
    "    \"\"\"\n",
    "    ## calculate the adjacency matrix node \n",
    "    n_list = list(sorted(g.nodes))\n",
    "    matrix=nx.adjacency_matrix(g,nodelist=n_list)\n",
    "    adj1=matrix.todense().tolist()\n",
    "    ## jaccard score\n",
    "    sim = matrix * matrix\n",
    "    sim1 = sim.copy().todense()                         \n",
    "    sim1[ np.nonzero( sim1 ) ] = 1            \n",
    "    deg_row = matrix.sum( axis = 0 )          \n",
    "    deg_row_matrix = np.tile( deg_row, ( (matrix.shape)[0], 1) )\n",
    "    deg_row_matrix = np.multiply( deg_row_matrix, sim1 )\n",
    "    deg_row_matrix = np.triu( deg_row_matrix ) + np.triu( (deg_row_matrix.T) )\n",
    "    sim = sim / ( np.multiply( deg_row_matrix, sim1 ) - sim ) \n",
    "    cn=sim.tolist()\n",
    "    cn=pd.DataFrame(cn).fillna(0)\n",
    "    cn=cn.values.tolist()\n",
    "    ## define the output csv file\n",
    "    cols_name = ['nodes']+[i for i in range(1,k+1)] \n",
    "    df=pd.DataFrame(columns=cols_name)\n",
    "    i=0\n",
    "    while i< len(cn):\n",
    "    ## Get the top k nodes by Jaccard score\n",
    "        jc_li = list(zip(n_list, cn[i], adj1[i]))\n",
    "        jc_li.pop(i)\n",
    "        jc_li = [(n[0], n[1]) for n in jc_li if n[2]==0]\n",
    "        jc_li = sorted(jc_li, key = lambda x:(-x[1],x[0])) \n",
    "        jc_li = [node[0] for node in jc_li[:k]]\n",
    "        ## list of node and its top k similar nodes with highest jaccard score\n",
    "        simi = [n_list[i]] + jc_li\n",
    "        ## add it to dataframe\n",
    "        df.loc[len(df)]=simi\n",
    "        i+=1\n",
    "    result_df = pd.DataFrame(df)\n",
    "    result_df.to_csv(\"result-jc1.csv\", index=False) "
   ]
  },
  {
   "cell_type": "code",
   "execution_count": 113,
   "metadata": {},
   "outputs": [
    {
     "name": "stderr",
     "output_type": "stream",
     "text": [
      "/Users/zihanfang/opt/anaconda3/lib/python3.8/site-packages/scipy/sparse/base.py:595: RuntimeWarning: invalid value encountered in true_divide\n",
      "  return np.true_divide(self.todense(), other)\n"
     ]
    }
   ],
   "source": [
    "jac(books[0],3)"
   ]
  },
  {
   "cell_type": "markdown",
   "metadata": {},
   "source": [
    "### Katz Similarity"
   ]
  },
  {
   "cell_type": "code",
   "execution_count": 114,
   "metadata": {},
   "outputs": [],
   "source": [
    "def kaz(k,g,l,beta):\n",
    "    \"\"\"Parameters\n",
    "    \n",
    "    g :  A NetworkX graph\n",
    "  \n",
    "    k : int\n",
    "        the number of requested suggested links for each node\n",
    "        \n",
    "    beta: float\n",
    "        default is 0.85\n",
    "    \n",
    "    l: int\n",
    "        path up to 3\n",
    "        \n",
    "    \"\"\"\n",
    "    n_list = list(sorted(g.nodes))\n",
    "    ## calculate the adjacency matrix node \n",
    "    adj=nx.adjacency_matrix(g,nodelist=list(sorted(g.nodes))).todense().tolist()\n",
    "    # Katz score\n",
    "    from numpy.linalg import matrix_power\n",
    "    \n",
    "    ## use adjacency matrix to calculate the Katz Similarity\n",
    "    kzs = []\n",
    "    j=1\n",
    "    while j <= l:\n",
    "        kz = matrix_power(adj,j)*(beta**j)\n",
    "        kzs.append(kz)\n",
    "        j=j+1\n",
    "    cn = sum(kzs).tolist()\n",
    "    \n",
    "    ## define the output csv file\n",
    "    cols_name = ['nodes']+[i for i in range(1,k+1)] \n",
    "    df=pd.DataFrame(columns=cols_name)\n",
    "    \n",
    "    i=0\n",
    "    while i< g.number_of_nodes():\n",
    "    ## get the top k nodes by the Katz score\n",
    "        kz_li = list(zip(n_list, cn[i],adj[i]))\n",
    "        kz_li.pop(i)\n",
    "        kz_li = [(n[0], n[1]) for n in kz_li if n[2]==0]\n",
    "        kz_li = sorted(kz_li, key = lambda x:(-x[1],x[0])) \n",
    "        kz_li = [node[0] for node in kz_li[:k]]\n",
    "        ## list of node and its top k nodes with highest katz score\n",
    "        simi = [n_list[i]] + kz_li\n",
    "        ## add it to dataframe\n",
    "        df.loc[len(df)]=simi\n",
    "        i+=1\n",
    "    result_df = pd.DataFrame(df)\n",
    "    result_df.to_csv(\"result-katz1.csv\", index=False) "
   ]
  },
  {
   "cell_type": "code",
   "execution_count": 115,
   "metadata": {},
   "outputs": [],
   "source": [
    "kaz(k=3,g=books[0],l=3,beta=0.85)"
   ]
  },
  {
   "cell_type": "markdown",
   "metadata": {},
   "source": [
    "## 2."
   ]
  },
  {
   "cell_type": "code",
   "execution_count": 116,
   "metadata": {},
   "outputs": [],
   "source": [
    "k=3\n",
    "G=books[0]"
   ]
  },
  {
   "cell_type": "code",
   "execution_count": 117,
   "metadata": {},
   "outputs": [],
   "source": [
    "# Implement ICM\n",
    "def ICM(g,s,p): #function to implement Independent Cascade Model ICM\n",
    "    import numpy as np\n",
    "    just_activated = list(s) #just activates represent nodes that are activated in each iteration\n",
    "    activated = list(s) #activated represents nodes that have been activated once \n",
    "    i=0\n",
    "    while(1):\n",
    "        if len(just_activated)==0: #If just activated = [], terminate the loop\n",
    "            return activated\n",
    "        i=i+1\n",
    "        temp=[] # tempeorary list to hold the just_activated values and update them after each iteration\n",
    "        for nodes in just_activated:\n",
    "            for node in g.neighbors(nodes):\n",
    "                r=np.random.uniform(0,1)\n",
    "                if r<p and node not in activated and node not in temp:\n",
    "                    #node once activated should not be used again\n",
    "                    temp.append(node)\n",
    "        for nodes in temp:\n",
    "                activated.append(nodes)\n",
    "        just_activated = list(temp) #update list after each iteration\n",
    "\n",
    "        \n",
    "def activated_nodes(List): #function to return list of activated nodes\n",
    "    return [u for u in List]             "
   ]
  },
  {
   "cell_type": "markdown",
   "metadata": {},
   "source": [
    "#### (A)"
   ]
  },
  {
   "cell_type": "code",
   "execution_count": 118,
   "metadata": {},
   "outputs": [],
   "source": [
    "#(A)using the top k nodes according to their degree with the highest degree node being the top\n",
    "from operator import itemgetter\n",
    "import heapq\n",
    "mapping = dict(zip(G, range(G.number_of_edges())))\n",
    "dic_new = dict([val, key] for key, val in mapping.items())  \n",
    "de=list(dict(G.degree()).values())\n",
    "deind = list(map(de.index, heapq.nlargest(k,de)))\n",
    "seeda= itemgetter(*deind)(dic_new)"
   ]
  },
  {
   "cell_type": "code",
   "execution_count": 119,
   "metadata": {},
   "outputs": [
    {
     "data": {
      "text/plain": [
       "89.2"
      ]
     },
     "execution_count": 119,
     "metadata": {},
     "output_type": "execute_result"
    }
   ],
   "source": [
    "seed = list(seeda) #Initial activated node list\n",
    "p = 0.2 #Activation probability of nodes\n",
    "i=0\n",
    "expecta=[]\n",
    "\n",
    "# simulate 10 rounds\n",
    "while i < 10:\n",
    "    active_nodes = activated_nodes(ICM(G,seed,p)) #return list of activated nodes\n",
    "    expecta.append(len(active_nodes))\n",
    "    i=i+1\n",
    "from statistics import mean\n",
    "mean(expecta)"
   ]
  },
  {
   "cell_type": "markdown",
   "metadata": {},
   "source": [
    "#### (B)"
   ]
  },
  {
   "cell_type": "code",
   "execution_count": 120,
   "metadata": {},
   "outputs": [],
   "source": [
    "#(B) using Betweeness Centrality with the highest k centrality being the top\n",
    "bc=list(dict(nx.betweenness_centrality(G)).values())\n",
    "bcind = list(map(bc.index, heapq.nlargest(k,bc)))\n",
    "seedb= itemgetter(*bcind)(dic_new)"
   ]
  },
  {
   "cell_type": "code",
   "execution_count": 121,
   "metadata": {},
   "outputs": [
    {
     "data": {
      "text/plain": [
       "88.6"
      ]
     },
     "execution_count": 121,
     "metadata": {},
     "output_type": "execute_result"
    }
   ],
   "source": [
    "# simulate 10 rounds\n",
    "seedb = list(seedb) #Initial activated node list\n",
    "p = 0.2 #Activation probability of nodes\n",
    "i=0\n",
    "expectb=[]\n",
    "\n",
    "# simulate 10 rounds\n",
    "while i < 10:\n",
    "    active_nodes = activated_nodes(ICM(G,seedb,p)) #return list of activated nodes\n",
    "    expectb.append(len(active_nodes))\n",
    "    i=i+1\n",
    "mean(expectb)"
   ]
  },
  {
   "cell_type": "code",
   "execution_count": 122,
   "metadata": {},
   "outputs": [
    {
     "data": {
      "text/plain": [
       "84.1"
      ]
     },
     "execution_count": 122,
     "metadata": {},
     "output_type": "execute_result"
    }
   ],
   "source": [
    "#(C) randomly selected k nodes and simulate 10 rounds\n",
    "i=0\n",
    "p = 0.2\n",
    "expectc=[]\n",
    "\n",
    "# simulate 10 rounds\n",
    "while i < 10:\n",
    "    seedc = []\n",
    "    nodes = list(set(G.nodes))\n",
    "    np.random.shuffle(nodes)\n",
    "    seedc =  nodes[:k]\n",
    "    active_nodes = activated_nodes(ICM(G,seedc,p)) #return list of activated nodes\n",
    "    expectc.append(len(active_nodes))\n",
    "    i=i+1\n",
    "mean(expectc)"
   ]
  },
  {
   "cell_type": "code",
   "execution_count": 55,
   "metadata": {},
   "outputs": [],
   "source": [
    "# Read in the dataset (similar to what you did in Problem 1).\n",
    "import operator\n",
    "book1 = pd.read_csv('book1.csv')\n",
    "G_book1 = nx.Graph()\n",
    "# Iterating through the DataFrame to add edges\n",
    "for _, edge in book1.iterrows():\n",
    "    G_book1.add_edge(edge['Source'], edge['Target'])\n",
    "\n",
    "G = nx.Graph()\n",
    "H=sorted(G_book1.nodes())\n",
    "G.add_nodes_from(H)\n",
    "G.add_edges_from(G_book1.edges())\n",
    "\n",
    "books = [G]"
   ]
  },
  {
   "cell_type": "code",
   "execution_count": 129,
   "metadata": {},
   "outputs": [],
   "source": [
    "# Extract the adjacency matrix A.\n",
    "A = nx.adjacency_matrix(books[0],nodelist=sorted(books[0].nodes())).astype('float').todense()"
   ]
  },
  {
   "cell_type": "code",
   "execution_count": 94,
   "metadata": {},
   "outputs": [],
   "source": [
    "# Construct the vector k composed of all the node degrees\n",
    "k = [val for (node, val) in books[0].degree()]\n",
    "k = np.array(k, dtype=float)\n",
    "import numpy as np\n",
    "# degree matrix\n",
    "D = np.diag(np.sum(np.array(A), axis=1))"
   ]
  },
  {
   "cell_type": "code",
   "execution_count": 88,
   "metadata": {},
   "outputs": [
    {
     "data": {
      "text/plain": [
       "matrix([[2., 0., 0., ..., 0., 0., 0.],\n",
       "        [0., 2., 0., ..., 0., 0., 0.],\n",
       "        [0., 0., 7., ..., 0., 0., 0.],\n",
       "        ...,\n",
       "        [0., 0., 0., ..., 4., 0., 0.],\n",
       "        [0., 0., 0., ..., 0., 1., 0.],\n",
       "        [0., 0., 0., ..., 0., 0., 7.]])"
      ]
     },
     "execution_count": 88,
     "metadata": {},
     "output_type": "execute_result"
    }
   ],
   "source": [
    "# Extract/construct the Laplacian matrix L.\n",
    "L = D - A\n",
    "L"
   ]
  },
  {
   "cell_type": "code",
   "execution_count": 97,
   "metadata": {},
   "outputs": [
    {
     "data": {
      "text/plain": [
       "matrix([[-20.65643275, -20.65643275, -20.65643275, ..., -20.65643275,\n",
       "         -20.65643275, -20.65643275],\n",
       "        [-20.65643275, -20.65643275, -20.65643275, ..., -20.65643275,\n",
       "         -20.65643275, -20.65643275],\n",
       "        [-20.65643275, -20.65643275, -20.65643275, ..., -20.65643275,\n",
       "         -20.65643275, -20.65643275],\n",
       "        ...,\n",
       "        [-20.65643275, -20.65643275, -20.65643275, ..., -20.65643275,\n",
       "         -20.65643275, -20.65643275],\n",
       "        [-20.65643275, -20.65643275, -20.65643275, ..., -20.65643275,\n",
       "         -20.65643275, -20.65643275],\n",
       "        [-20.65643275, -20.65643275, -20.65643275, ..., -20.65643275,\n",
       "         -20.65643275, -20.65643275]])"
      ]
     },
     "execution_count": 97,
     "metadata": {},
     "output_type": "execute_result"
    }
   ],
   "source": [
    "# Construct the matrix B using A, k, and the number of edges in the graph m.\n",
    "import scipy.sparse.linalg\n",
    "m=books[0].number_of_edges()\n",
    "t=np.transpose(k)\n",
    "B = A-((1/(2*m))*np.dot(k,t))\n",
    "\n",
    "B"
   ]
  },
  {
   "cell_type": "code",
   "execution_count": 98,
   "metadata": {},
   "outputs": [],
   "source": [
    "# Extract out the largest eigenvalue/vector pair\n",
    "eigval1,eigvec1=scipy.sparse.linalg.eigs(B, k=1,which='LR')"
   ]
  },
  {
   "cell_type": "code",
   "execution_count": 127,
   "metadata": {},
   "outputs": [
    {
     "name": "stdout",
     "output_type": "stream",
     "text": [
      "[13.76874765+0.j]\n",
      "[[ 1.93343624e-02+0.j]\n",
      " [ 2.97389053e-02+0.j]\n",
      " [ 5.51260373e-02+0.j]\n",
      " [-1.61594401e-02+0.j]\n",
      " [ 7.95573786e-02+0.j]\n",
      " [ 4.41286745e-02+0.j]\n",
      " [ 5.37449311e-02+0.j]\n",
      " [-4.23516008e-03+0.j]\n",
      " [ 4.22494483e-02+0.j]\n",
      " [-1.70141688e-01+0.j]\n",
      " [ 2.43630625e-02+0.j]\n",
      " [ 6.34559093e-03+0.j]\n",
      " [ 1.91528962e-02+0.j]\n",
      " [-1.34218637e-01+0.j]\n",
      " [-4.39404538e-02+0.j]\n",
      " [-2.26507491e-02+0.j]\n",
      " [-2.52397530e-02+0.j]\n",
      " [ 4.90736234e-02+0.j]\n",
      " [-1.61423449e-01+0.j]\n",
      " [-9.72905372e-03+0.j]\n",
      " [ 1.25905189e-02+0.j]\n",
      " [-2.18076109e-02+0.j]\n",
      " [-1.56004060e-01+0.j]\n",
      " [ 9.14189314e-03+0.j]\n",
      " [-2.34964167e-01+0.j]\n",
      " [ 2.92235075e-02+0.j]\n",
      " [ 4.39547677e-02+0.j]\n",
      " [ 3.11516576e-02+0.j]\n",
      " [ 4.45784531e-02+0.j]\n",
      " [ 4.54318054e-02+0.j]\n",
      " [ 6.83897465e-02+0.j]\n",
      " [ 3.14557101e-02+0.j]\n",
      " [ 3.54339526e-02+0.j]\n",
      " [ 4.40016038e-02+0.j]\n",
      " [ 8.71713549e-02+0.j]\n",
      " [ 4.93346379e-02+0.j]\n",
      " [ 3.54685551e-02+0.j]\n",
      " [ 2.44978320e-02+0.j]\n",
      " [ 1.10507102e-02+0.j]\n",
      " [ 4.44427837e-02+0.j]\n",
      " [ 3.54685551e-02+0.j]\n",
      " [ 3.00977966e-02+0.j]\n",
      " [ 7.94000696e-02+0.j]\n",
      " [ 1.20332449e-01+0.j]\n",
      " [ 3.54685551e-02+0.j]\n",
      " [-2.48116899e-01+0.j]\n",
      " [-2.77185344e-02+0.j]\n",
      " [ 2.70925847e-02+0.j]\n",
      " [ 4.77592006e-02+0.j]\n",
      " [ 4.55988402e-02+0.j]\n",
      " [-4.80248375e-05+0.j]\n",
      " [ 4.94450897e-02+0.j]\n",
      " [ 2.34078027e-02+0.j]\n",
      " [ 1.13089658e-02+0.j]\n",
      " [-9.01948460e-02+0.j]\n",
      " [ 5.75659924e-02+0.j]\n",
      " [ 2.92235075e-02+0.j]\n",
      " [ 7.88254457e-02+0.j]\n",
      " [ 6.32142773e-02+0.j]\n",
      " [ 2.97041959e-02+0.j]\n",
      " [ 3.69469636e-04+0.j]\n",
      " [ 1.38164372e-02+0.j]\n",
      " [ 2.73622971e-02+0.j]\n",
      " [ 3.23340379e-02+0.j]\n",
      " [ 5.93033309e-03+0.j]\n",
      " [ 3.54685551e-02+0.j]\n",
      " [ 1.73045472e-02+0.j]\n",
      " [ 4.85362920e-02+0.j]\n",
      " [ 5.07546243e-03+0.j]\n",
      " [ 2.34078027e-02+0.j]\n",
      " [ 3.28741216e-02+0.j]\n",
      " [-1.91604065e-04+0.j]\n",
      " [ 5.68765640e-02+0.j]\n",
      " [-7.90311065e-02+0.j]\n",
      " [ 8.87406590e-02+0.j]\n",
      " [ 2.34078027e-02+0.j]\n",
      " [ 4.40931991e-02+0.j]\n",
      " [-1.93668463e-01+0.j]\n",
      " [-7.17445149e-02+0.j]\n",
      " [ 4.85362920e-02+0.j]\n",
      " [ 3.66951043e-02+0.j]\n",
      " [ 1.67353011e-02+0.j]\n",
      " [-2.59945725e-02+0.j]\n",
      " [ 7.51951767e-02+0.j]\n",
      " [ 8.10722447e-02+0.j]\n",
      " [-2.40642868e-01+0.j]\n",
      " [ 5.43383750e-02+0.j]\n",
      " [-1.17777542e-01+0.j]\n",
      " [-8.20554415e-02+0.j]\n",
      " [ 1.05129085e-02+0.j]\n",
      " [ 4.36983394e-02+0.j]\n",
      " [ 8.92858544e-02+0.j]\n",
      " [-1.27634327e-01+0.j]\n",
      " [ 2.62264470e-02+0.j]\n",
      " [ 2.34078027e-02+0.j]\n",
      " [ 3.15121820e-02+0.j]\n",
      " [ 4.33764451e-02+0.j]\n",
      " [ 7.12977197e-03+0.j]\n",
      " [ 2.92235075e-02+0.j]\n",
      " [ 2.43658862e-02+0.j]\n",
      " [ 2.92235075e-02+0.j]\n",
      " [-1.02571900e-01+0.j]\n",
      " [-4.78842476e-02+0.j]\n",
      " [-1.22464130e-02+0.j]\n",
      " [ 3.70649726e-02+0.j]\n",
      " [-6.00747719e-02+0.j]\n",
      " [ 3.71834685e-02+0.j]\n",
      " [ 4.05912667e-02+0.j]\n",
      " [ 2.35426982e-02+0.j]\n",
      " [ 3.82367799e-02+0.j]\n",
      " [ 1.18483976e-02+0.j]\n",
      " [ 9.96638113e-03+0.j]\n",
      " [ 3.00977966e-02+0.j]\n",
      " [ 3.54685551e-02+0.j]\n",
      " [-6.18475877e-02+0.j]\n",
      " [ 8.07625565e-02+0.j]\n",
      " [ 2.92235075e-02+0.j]\n",
      " [-9.53961978e-02+0.j]\n",
      " [ 3.00977966e-02+0.j]\n",
      " [ 3.15121820e-02+0.j]\n",
      " [ 3.00977966e-02+0.j]\n",
      " [-3.46358087e-02+0.j]\n",
      " [ 3.00977966e-02+0.j]\n",
      " [-5.12449308e-02+0.j]\n",
      " [ 1.73045472e-02+0.j]\n",
      " [ 2.85139481e-02+0.j]\n",
      " [ 5.74258974e-02+0.j]\n",
      " [ 1.60477483e-02+0.j]\n",
      " [ 4.22494483e-02+0.j]\n",
      " [ 3.54685551e-02+0.j]\n",
      " [ 4.41286681e-02+0.j]\n",
      " [-2.21919465e-01+0.j]\n",
      " [ 2.34078027e-02+0.j]\n",
      " [-1.31416905e-01+0.j]\n",
      " [ 6.02263006e-02+0.j]\n",
      " [ 8.48988849e-02+0.j]\n",
      " [ 7.37708884e-02+0.j]\n",
      " [ 7.33596525e-02+0.j]\n",
      " [ 4.59106031e-02+0.j]\n",
      " [ 5.60247214e-02+0.j]\n",
      " [ 6.34559093e-03+0.j]\n",
      " [-1.64557907e-01+0.j]\n",
      " [-2.24167896e-03+0.j]\n",
      " [ 5.01676327e-02+0.j]\n",
      " [-2.20350272e-02+0.j]\n",
      " [ 2.89975918e-02+0.j]\n",
      " [-6.17094740e-02+0.j]\n",
      " [-1.40147933e-01+0.j]\n",
      " [ 1.35300808e-02+0.j]\n",
      " [-2.34925288e-01+0.j]\n",
      " [-1.09777656e-01+0.j]\n",
      " [ 2.23811455e-02+0.j]\n",
      " [ 6.17184822e-02+0.j]\n",
      " [-1.42143725e-01+0.j]\n",
      " [-2.46259557e-01+0.j]\n",
      " [ 3.01379348e-02+0.j]\n",
      " [ 4.15084470e-02+0.j]\n",
      " [-1.09047482e-01+0.j]\n",
      " [ 3.09541250e-02+0.j]\n",
      " [ 1.95254973e-02+0.j]\n",
      " [ 6.55882833e-03+0.j]\n",
      " [-5.98662025e-02+0.j]\n",
      " [ 3.97830138e-02+0.j]\n",
      " [ 3.22381932e-02+0.j]\n",
      " [ 2.34078027e-02+0.j]\n",
      " [ 4.86147450e-02+0.j]\n",
      " [-3.18658012e-02+0.j]\n",
      " [-5.36617822e-02+0.j]\n",
      " [ 1.50083386e-02+0.j]\n",
      " [ 2.34078027e-02+0.j]\n",
      " [-1.68041926e-01+0.j]\n",
      " [ 3.12583818e-02+0.j]\n",
      " [-1.10534606e-01+0.j]\n",
      " [ 4.44427837e-02+0.j]\n",
      " [ 1.86967681e-02+0.j]\n",
      " [ 2.34078027e-02+0.j]\n",
      " [-1.54955451e-01+0.j]\n",
      " [-3.23463943e-02+0.j]\n",
      " [ 6.21010009e-02+0.j]\n",
      " [ 1.17905696e-02+0.j]\n",
      " [ 4.53367010e-02+0.j]\n",
      " [ 1.99190980e-02+0.j]\n",
      " [ 4.83119332e-02+0.j]\n",
      " [ 1.39576934e-02+0.j]\n",
      " [ 2.42050887e-03+0.j]\n",
      " [ 2.34078027e-02+0.j]\n",
      " [-1.29715911e-02+0.j]]\n"
     ]
    }
   ],
   "source": [
    "print(eigval1)\n",
    "print(eigvec1)"
   ]
  },
  {
   "cell_type": "code",
   "execution_count": 99,
   "metadata": {},
   "outputs": [],
   "source": [
    "# Extract out the second smallest eigenvalue/vector pair \n",
    "eigval2,eigvec2 = scipy.sparse.linalg.eigs(L,k=2,which='SR')\n",
    "eigval2=eigval2[1]\n",
    "eigvec2=eigvec2[:,1]"
   ]
  },
  {
   "cell_type": "code",
   "execution_count": 126,
   "metadata": {},
   "outputs": [
    {
     "name": "stdout",
     "output_type": "stream",
     "text": [
      "(0.23227352209672877+0j)\n",
      "[-3.29315583e-03+0.j -1.85830107e-02+0.j -8.42920636e-03+0.j\n",
      " -7.91269749e-03+0.j -3.07529802e-02+0.j -8.27322457e-03+0.j\n",
      " -7.78419539e-03+0.j -7.40011751e-03+0.j -1.42832440e-02+0.j\n",
      " -6.19700527e-03+0.j -8.04871038e-03+0.j -8.93911667e-03+0.j\n",
      " -7.35144398e-03+0.j -6.66242479e-03+0.j -5.94890144e-03+0.j\n",
      " -8.06363008e-03+0.j -6.80827854e-03+0.j -8.01557130e-03+0.j\n",
      " -5.11593131e-03+0.j -7.81722487e-03+0.j -4.22023259e-03+0.j\n",
      "  5.36645463e-03+0.j -3.89789722e-04+0.j -7.35926170e-03+0.j\n",
      " -6.17920807e-03+0.j -6.94920491e-03+0.j -8.26470716e-03+0.j\n",
      " -4.91883200e-03+0.j -7.03901581e-03+0.j -1.09794394e-02+0.j\n",
      " -3.18074969e-02+0.j -2.06616827e-03+0.j -9.42192342e-03+0.j\n",
      " -1.22725003e-02+0.j -2.57103642e-02+0.j  4.66477974e-01+0.j\n",
      " -8.74727222e-03+0.j -7.39201224e-03+0.j -7.54433525e-03+0.j\n",
      " -1.10322078e-02+0.j -8.74727222e-03+0.j -5.07719524e-04+0.j\n",
      " -2.88942366e-02+0.j -3.15478721e-02+0.j -8.74727222e-03+0.j\n",
      " -7.13931590e-03+0.j -3.15292557e-03+0.j -2.77597176e-03+0.j\n",
      " -3.34889637e-02+0.j -7.15285999e-02+0.j -3.78822696e-03+0.j\n",
      " -1.08261237e-02+0.j -9.29929618e-03+0.j -1.09656246e-02+0.j\n",
      " -6.18511665e-03+0.j -8.00012154e-03+0.j -6.94920491e-03+0.j\n",
      " -3.16198594e-02+0.j -8.09206560e-03+0.j -6.66374218e-03+0.j\n",
      " -2.00723691e-03+0.j -6.72322430e-03+0.j -6.49289844e-03+0.j\n",
      " -7.08491608e-03+0.j -7.44453191e-03+0.j -8.74727222e-03+0.j\n",
      " -4.03577084e-03+0.j  6.07609594e-01+0.j -2.27982209e-03+0.j\n",
      " -9.29929618e-03+0.j -7.90482326e-03+0.j -4.92347701e-03+0.j\n",
      " -2.52536712e-02+0.j -7.13924388e-03+0.j -2.86222024e-02+0.j\n",
      " -9.29929618e-03+0.j -1.06847717e-02+0.j -4.98477005e-03+0.j\n",
      " -6.93736922e-03+0.j  6.07609594e-01+0.j -8.20298211e-03+0.j\n",
      " -7.55740731e-03+0.j -7.43266915e-03+0.j -2.96603826e-02+0.j\n",
      " -3.01496800e-02+0.j -6.02058026e-03+0.j -4.89115670e-02+0.j\n",
      " -6.06874212e-03+0.j -6.71551250e-03+0.j -1.80020744e-03+0.j\n",
      " -3.14948087e-03+0.j -2.66379163e-02+0.j -5.86835979e-03+0.j\n",
      " -5.25809592e-03+0.j -9.29929618e-03+0.j -6.94920491e-03+0.j\n",
      " -5.40403881e-03+0.j -4.03092121e-03+0.j -6.94920491e-03+0.j\n",
      " -1.12834422e-02+0.j -6.94920491e-03+0.j -7.39478114e-03+0.j\n",
      " -4.17894407e-03+0.j -8.02682491e-03+0.j -5.25019039e-03+0.j\n",
      " -4.03071018e-03+0.j -1.58966275e-02+0.j -3.03345300e-03+0.j\n",
      " -8.62773767e-03+0.j -7.74872511e-03+0.j -3.90952505e-03+0.j\n",
      " -4.76495993e-03+0.j -5.07719524e-04+0.j -8.74727222e-03+0.j\n",
      " -6.97405411e-03+0.j -3.06237727e-02+0.j -6.94920491e-03+0.j\n",
      " -6.85223238e-03+0.j -5.07719524e-04+0.j -6.94920491e-03+0.j\n",
      " -5.07719524e-04+0.j -6.84500625e-03+0.j -5.07719524e-04+0.j\n",
      " -6.91405934e-03+0.j -4.03577084e-03+0.j  2.81529126e-03+0.j\n",
      " -5.49144000e-02+0.j -4.03577084e-03+0.j -1.42832440e-02+0.j\n",
      " -8.74727222e-03+0.j -2.07061081e-02+0.j -6.02991378e-03+0.j\n",
      " -9.29929618e-03+0.j -6.29485937e-03+0.j -8.06874359e-03+0.j\n",
      " -3.09638527e-02+0.j -3.16076040e-02+0.j -3.17213415e-02+0.j\n",
      " -1.00683384e-02+0.j -8.09044462e-03+0.j -8.93911667e-03+0.j\n",
      " -6.34086870e-03+0.j -1.47887007e-02+0.j -4.10925935e-02+0.j\n",
      " -3.56210775e-03+0.j -7.31626547e-03+0.j -4.96940279e-03+0.j\n",
      " -1.87503442e-03+0.j -3.52476612e-03+0.j -8.66259732e-03+0.j\n",
      " -4.63577481e-03+0.j -2.48802135e-03+0.j -7.72972998e-03+0.j\n",
      " -6.65447347e-03+0.j -6.62374265e-03+0.j -5.40542970e-03+0.j\n",
      " -8.46971802e-03+0.j -6.03435600e-03+0.j  4.26957801e-02+0.j\n",
      " -3.95477797e-03+0.j -7.33828846e-03+0.j  1.98974296e-03+0.j\n",
      " -1.05032591e-02+0.j -7.80935671e-03+0.j -9.29929618e-03+0.j\n",
      " -8.19498003e-03+0.j -6.88823887e-03+0.j -6.25709651e-03+0.j\n",
      " -5.92773986e-03+0.j -9.29929618e-03+0.j -5.33508861e-03+0.j\n",
      " -2.41793986e-03+0.j -8.36628706e-04+0.j -1.10322078e-02+0.j\n",
      " -3.26263064e-03+0.j -9.29929618e-03+0.j -6.94503779e-03+0.j\n",
      " -7.14103179e-03+0.j -2.44753161e-02+0.j  7.58642508e-02+0.j\n",
      " -1.03992069e-02+0.j -1.28120734e-03+0.j -1.20071351e-02+0.j\n",
      " -4.05866035e-03+0.j -6.65583396e-03+0.j -9.29929618e-03+0.j\n",
      " -5.72494781e-03+0.j]\n"
     ]
    }
   ],
   "source": [
    "print(eigval2)\n",
    "print(eigvec2)"
   ]
  },
  {
   "cell_type": "code",
   "execution_count": 100,
   "metadata": {},
   "outputs": [],
   "source": [
    "# Create an output file for modularity maximization that has two rows of output that are comma separated\n",
    "mapping = dict(zip(books[0], range(books[0].number_of_edges())))\n",
    "dic_new = dict([val, key] for key, val in mapping.items())  \n",
    "result=[]\n",
    "lm=np.array(eigvec1>=0)\n",
    "keys=np.where(lm == True)[0]\n",
    "#out = operator.itemgetter(*keys)(dic_new)\n",
    "result.append(keys)\n",
    "ls=np.array(eigvec1<0)\n",
    "keys1=np.where(ls == True)[0]\n",
    "#out1 = operator.itemgetter(*keys1)(dic_new)\n",
    "result.append(keys1)\n",
    "result_df = pd.DataFrame(result)\n",
    "result_df.to_csv(\"result-maxmodularity.csv\", index=False) "
   ]
  },
  {
   "cell_type": "code",
   "execution_count": 101,
   "metadata": {},
   "outputs": [],
   "source": [
    "# Create an output file for min graph cut that has two rows of output that are comma separated\n",
    "results=[] \n",
    "lm1=np.array(eigvec2>=0)\n",
    "keys2=np.where(lm1 == True)[0]\n",
    "\n",
    "results.append(keys2)\n",
    "ls1=np.array(eigvec2<0)\n",
    "keys3=np.where(ls1 == True)[0]\n",
    "\n",
    "results.append(keys3)\n",
    "result_df1 = pd.DataFrame(results)\n",
    "result_df1.to_csv(\"result-mincut.csv\", index=False) "
   ]
  },
  {
   "cell_type": "code",
   "execution_count": 106,
   "metadata": {},
   "outputs": [
    {
     "data": {
      "image/png": "[encoded data removed]",
      "text/plain": [
       "<Figure size 432x288 with 1 Axes>"
      ]
     },
     "metadata": {},
     "output_type": "display_data"
    }
   ],
   "source": [
    "color_map=[]\n",
    "for node in nx.convert_node_labels_to_integers(books[0]).nodes():\n",
    "    if node in result[0]:\n",
    "        color_map.append('pink')\n",
    "    else: \n",
    "        color_map.append('grey') \n",
    "# Draw the graph based on the modularity maximization clustering output\n",
    "nx.draw(books[0],node_color=color_map, nodesize=50, fontsize=2)"
   ]
  },
  {
   "cell_type": "code",
   "execution_count": 105,
   "metadata": {},
   "outputs": [
    {
     "data": {
      "image/png": "[encoded data removed]",
      "text/plain": [
       "<Figure size 432x288 with 1 Axes>"
      ]
     },
     "metadata": {},
     "output_type": "display_data"
    }
   ],
   "source": [
    "# Draw the graph based on the min graph cut clustering output\n",
    "color_map1=[]\n",
    "for node in nx.convert_node_labels_to_integers(books[0]).nodes():\n",
    "    if node in results[0]:\n",
    "        color_map1.append('pink')\n",
    "    else: \n",
    "        color_map1.append('grey') \n",
    "nx.draw(books[0], node_color=color_map1, nodesize=50, fontsize=1)"
   ]
  },
  {
   "cell_type": "code",
   "execution_count": null,
   "metadata": {},
   "outputs": [],
   "source": []
  }
 ],
 "metadata": {
  "kernelspec": {
   "display_name": "Python 3",
   "language": "python",
   "name": "python3"
  },
  "language_info": {
   "codemirror_mode": {
    "name": "ipython",
    "version": 3
   },
   "file_extension": ".py",
   "mimetype": "text/x-python",
   "name": "python",
   "nbconvert_exporter": "python",
   "pygments_lexer": "ipython3",
   "version": "3.8.3"
  }
 },
 "nbformat": 4,
 "nbformat_minor": 4
}
